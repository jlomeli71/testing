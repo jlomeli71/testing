{
 "cells": [
  {
   "cell_type": "markdown",
   "metadata": {},
   "source": [
    "# Simulación de Fallas en la Red DWDM ISP_Tx\n",
    "\n",
    "Este notebook analiza los segmentos de la red DWDM ISP_Tx, mostrando la frecuencia con la que cada segmento aparece en los diferentes caminos ópticos (lambdas). Se visualizan los resultados tanto por ID de sitio como por nombre descriptivo."
   ]
  },
  {
   "cell_type": "code",
   "metadata": {},
   "source": [
    "import matplotlib.pyplot as plt"
   ],
   "execution_count": null,
   "outputs": []
  },
  {
   "cell_type": "markdown",
   "metadata": {},
   "source": [
    "## Diccionario de nombres de sitios\n",
    "\n",
    "Este diccionario traduce los IDs de los sitios a nombres legibles."
   ]
  },
  {
   "cell_type": "code",
   "metadata": {},
   "source": [
    "SITE_ID_TO_NAME = {\n",
    "    \"MSOTOL01\": \"Toluca\",\n",
    "    \"NFO-117\": \"Maravatio\",\n",
    "    \"NFO-006\": \"Leon LD\",\n",
    "    \"NFO-027\": \"AGS Bestel\",\n",
    "    \"NFO-044\": \"SLP Bestel\",\n",
    "    \"NFO-025\": \"SLP Marcatel\",\n",
    "    \"NFO-075\": \"MTY Marcatel\",\n",
    "    \"NFO-076\": \"MTY Transtelco\",\n",
    "    \"NFO-038\": \"Nuevo Laredo\",\n",
    "    \"MSOMTY02\": \"Buenos Aires\",\n",
    "    \"MSOMTY01\": \"Apodaca\",\n",
    "    \"NFO-009\": \"QRO San Pablo\",\n",
    "    \"NFO-040\": \"QRO Bestel\",\n",
    "    \"MSOMEX04\": \"Ceylan\",\n",
    "    \"MSOMEX01\": \"Megacentro\",\n",
    "    \"MSOGDL02\": \"Canada\",\n",
    "    \"MSOGDL01\": \"Tlaquepaque\",\n",
    "    \"TAMREY1273\": \"Reynosa Iusatel\",\n",
    "    \"NFO-022\": \"Reynosa Marcatel\",\n",
    "    \"NFO-053\": \"Poza Rica Maxcom\",\n",
    "    \"MSOPUE01\": \"Puebla Calera\",\n",
    "    \"NFO-010\": \"Rio Frio\",\n",
    "    \"NFO-004\": \"Jilotepec\",\n",
    "    \"NFO-032\": \"Irapuato Bestel\",\n",
    "    \"MSOMTY03\": \"Gonzalitos\",\n",
    "}"
   ],
   "execution_count": null,
   "outputs": []
  },
  {
   "cell_type": "markdown",
   "metadata": {},
   "source": [
    "## Definición de los caminos ópticos (lambdas)\n",
    "\n",
    "Cada lambda es un diccionario con un nombre y una lista de segmentos (cada segmento es un conjunto de IDs de sitios)."
   ]
  },
  {
   "cell_type": "code",
   "metadata": {},
   "source": [
    "LAMBDA_PATHS = [\n",
    "    {\n",
    "        \"name\": \"Laredo to Toluca\",\n",
    "        \"segments\": [\n",
    "            {\"NFO-038\", \"NFO-076\"},\n",
    "            {\"NFO-076\", \"NFO-075\"},\n",
    "            {\"NFO-075\", \"NFO-025\"},\n",
    "            {\"NFO-025\", \"NFO-044\"},\n",
    "            {\"NFO-044\", \"NFO-027\"},\n",
    "            {\"NFO-027\", \"NFO-006\"},\n",
    "            {\"NFO-006\", \"NFO-117\"},\n",
    "            {\"NFO-117\", \"MSOTOL01\"},\n",
    "        ]\n",
    "    },\n",
    "    {\n",
    "        \"name\": \"Laredo to Apodaca\",\n",
    "        \"segments\": [\n",
    "            {\"NFO-038\", \"NFO-076\"},\n",
    "            {\"NFO-076\", \"MSOMTY02\"},\n",
    "            {\"MSOMTY02\", \"MSOMTY01\"}\n",
    "        ]\n",
    "    },\n",
    "    {\n",
    "        \"name\": \"Laredo to Megacentro\",\n",
    "        \"segments\": [\n",
    "            {\"NFO-038\", \"NFO-076\"},\n",
    "            {\"NFO-076\", \"NFO-044\"},\n",
    "            {\"NFO-044\", \"NFO-025\"},\n",
    "            {\"NFO-025\", \"NFO-009\"},\n",
    "            {\"NFO-009\", \"NFO-040\"},\n",
    "            {\"NFO-040\", \"MSOMEX04\"},\n",
    "            {\"MSOMEX04\", \"MSOMEX01\", \"ruta_2\"}\n",
    "        ]\n",
    "    },\n",
    "    {\n",
    "        \"name\": \"Laredo to Tlaquepaque\",\n",
    "        \"segments\": [\n",
    "            {\"NFO-038\", \"NFO-076\"},\n",
    "            {\"NFO-076\", \"NFO-044\"},\n",
    "            {\"NFO-044\", \"NFO-027\"},\n",
    "            {\"NFO-027\", \"NFO-006\"},\n",
    "            {\"NFO-006\", \"MSOGDL02\"},\n",
    "            {\"MSOGDL02\", \"MSOGDL01\", \"ruta_1\"}\n",
    "        ]\n",
    "    },\n",
    "    {\n",
    "        \"name\": \"Reynosa to Toluca\",\n",
    "        \"segments\": [\n",
    "            {\"TAMREY1273\", \"NFO-022\"},\n",
    "            {\"NFO-022\", \"NFO-053\"},\n",
    "            {\"NFO-053\", \"MSOPUE01\"},\n",
    "            {\"MSOPUE01\", \"NFO-010\"},\n",
    "            {\"NFO-010\", \"MSOMEX04\"},\n",
    "            {\"MSOMEX04\", \"MSOTOL01\"}\n",
    "        ]\n",
    "    },\n",
    "    {\n",
    "        \"name\": \"Reynosa to Megacentro\",\n",
    "        \"segments\": [\n",
    "            {\"TAMREY1273\", \"NFO-022\"},\n",
    "            {\"NFO-022\", \"NFO-075\"},\n",
    "            {\"NFO-075\", \"NFO-025\"},\n",
    "            {\"NFO-025\", \"NFO-009\"},\n",
    "            {\"NFO-009\", \"NFO-004\"},\n",
    "            {\"NFO-004\", \"MSOMEX04\"},\n",
    "            {\"MSOMEX04\", \"MSOMEX01\", \"ruta_1\"}\n",
    "        ]\n",
    "    },\n",
    "    {\n",
    "        \"name\": \"Reynosa to Tlaquepaque\",\n",
    "        \"segments\": [\n",
    "            {\"TAMREY1273\", \"NFO-022\"},\n",
    "            {\"NFO-022\", \"NFO-075\"},\n",
    "            {\"NFO-075\", \"NFO-025\"},\n",
    "            {\"NFO-025\", \"NFO-009\"},\n",
    "            {\"NFO-009\", \"NFO-040\"},\n",
    "            {\"NFO-040\", \"NFO-032\"},\n",
    "            {\"NFO-032\", \"MSOGDL02\"},\n",
    "            {\"MSOGDL02\", \"MSOGDL01\", \"ruta_2\"}\n",
    "        ]\n",
    "    },\n",
    "    {\n",
    "        \"name\": \"Reynosa to Apodaca\",\n",
    "        \"segments\": [\n",
    "            {\"TAMREY1273\", \"NFO-022\"},\n",
    "            {\"NFO-022\", \"NFO-075\"},\n",
    "            {\"NFO-075\", \"MSOMTY02\"},\n",
    "            {\"MSOMTY02\", \"MSOMTY03\"},\n",
    "            {\"MSOMTY03\", \"MSOMTY01\"}\n",
    "        ]\n",
    "    },\n",
    "    {\n",
    "        \"name\": \"Megacentro to Toluca\",\n",
    "        \"segments\": [\n",
    "            {\"MSOMEX01\", \"MSOMEX04\", \"ruta_1\"},\n",
    "            {\"MSOMEX04\", \"MSOTOL01\"}\n",
    "        ]\n",
    "    },\n",
    "    {\n",
    "        \"name\": \"Toluca to Tlaquepaque\",\n",
    "        \"segments\": [\n",
    "            {\"MSOTOL01\", \"NFO-004\"},\n",
    "            {\"NFO-004\", \"NFO-009\"},\n",
    "            {\"NFO-009\", \"NFO-040\"},\n",
    "            {\"NFO-040\", \"NFO-032\"},\n",
    "            {\"NFO-032\", \"MSOGDL02\"},\n",
    "            {\"MSOGDL02\", \"MSOGDL01\", \"ruta_2\"}\n",
    "        ]\n",
    "    },\n",
    "    {\n",
    "        \"name\": \"Tlaquepaque to Apodaca\",\n",
    "        \"segments\": [\n",
    "            {\"MSOGDL01\", \"MSOGDL02\", \"ruta_1\"},\n",
    "            {\"MSOGDL02\", \"NFO-006\"},\n",
    "            {\"NFO-006\", \"NFO-027\"},\n",
    "            {\"NFO-027\", \"NFO-044\"},\n",
    "            {\"NFO-044\", \"NFO-076\"},\n",
    "            {\"NFO-076\", \"MSOMTY02\"},\n",
    "            {\"MSOMTY02\", \"MSOMTY03\"},\n",
    "            {\"MSOMTY03\", \"MSOMTY01\"}\n",
    "        ]\n",
    "    },\n",
    "    {\n",
    "        \"name\": \"Apodaca to Megacentro\",\n",
    "        \"segments\": [\n",
    "            {\"MSOMTY01\", \"MSOMTY02\"},\n",
    "            {\"MSOMTY02\", \"NFO-076\"},\n",
    "            {\"NFO-076\", \"NFO-044\"},\n",
    "            {\"NFO-044\", \"NFO-027\"},\n",
    "            {\"NFO-027\", \"NFO-006\"},\n",
    "            {\"NFO-006\", \"NFO-032\"},\n",
    "            {\"NFO-032\", \"NFO-040\"},\n",
    "            {\"NFO-040\", \"MSOMEX04\"},\n",
    "            {\"MSOMEX04\", \"MSOMEX01\", \"ruta_2\"}\n",
    "        ]\n",
    "    }\n",
    "]"
   ],
   "execution_count": null,
   "outputs": []
  },
  {
   "cell_type": "markdown",
   "metadata": {},
   "source": [
    "## Función para obtener todos los segmentos únicos\n",
    "\n",
    "Esta función extrae todos los segmentos únicos (como tuplas ordenadas) de todos los caminos ópticos."
   ]
  },
  {
   "cell_type": "code",
   "metadata": {},
   "source": [
    "def get_all_segments(lambdas):\n",
    "    \"\"\"Return a list of all unique segments (as sorted tuples) from all lambdas.\"\"\"\n",
    "    all_segments = set()\n",
    "    for path in lambdas:\n",
    "        for segment in path[\"segments\"]:\n",
    "            all_segments.add(tuple(sorted(segment)))\n",
    "    return list(all_segments)"
   ],
   "execution_count": null,
   "outputs": []
  },
  {
   "cell_type": "markdown",
   "metadata": {},
   "source": [
    "## Función para mapear segmentos a lambdas\n",
    "\n",
    "Esta función crea un diccionario que asocia cada segmento único con la lista de nombres de lambdas donde aparece."
   ]
  },
  {
   "cell_type": "code",
   "metadata": {},
   "source": [
    "def create_segment_to_lambdas(unique_segments, lambdas):\n",
    "    \"\"\"\n",
    "    Map each unique segment to a list of lambda names where it appears.\n",
    "    \"\"\"\n",
    "    segment_to_lambdas = {}\n",
    "    for segment in unique_segments:\n",
    "        segment_set = set(segment)\n",
    "        included_lambdas = []\n",
    "        for path in lambdas:\n",
    "            if any(segment_set == set(s) for s in path[\"segments\"]):\n",
    "                included_lambdas.append(path[\"name\"])\n",
    "        segment_to_lambdas[segment] = included_lambdas\n",
    "    return segment_to_lambdas"
   ],
   "execution_count": null,
   "outputs": []
  },
  {
   "cell_type": "markdown",
   "metadata": {},
   "source": [
    "## Función para graficar la frecuencia de segmentos\n",
    "\n",
    "Esta función genera un gráfico de barras horizontales mostrando cuántas lambdas contienen cada segmento."
   ]
  },
  {
   "cell_type": "code",
   "metadata": {},
   "source": [
    "def plot_segment_frequencies(segment_to_lambdas, title, use_names=False):\n",
    "    \"\"\"\n",
    "    Plot a horizontal bar chart of segment frequencies.\n",
    "    If use_names is True, show site names instead of IDs.\n",
    "    \"\"\"\n",
    "    sorted_items = sorted(segment_to_lambdas.items(), key=lambda x: len(x[1]), reverse=True)\n",
    "    if use_names:\n",
    "        def segment_to_label(segment):\n",
    "            return ' & '.join(SITE_ID_TO_NAME.get(site, site) for site in segment)\n",
    "    else:\n",
    "        def segment_to_label(segment):\n",
    "            return ' & '.join(segment)\n",
    "    labels = [segment_to_label(item[0]) for item in sorted_items]\n",
    "    frequencies = [len(item[1]) for item in sorted_items]\n",
    "\n",
    "    plt.figure(figsize=(12, 6))\n",
    "    plt.barh(labels, frequencies, color='skyblue' if not use_names else 'lightgreen')\n",
    "    plt.xlabel('Cantidad de Lambdas')\n",
    "    plt.title(title)\n",
    "    plt.gca().invert_yaxis()\n",
    "    plt.tight_layout()\n",
    "    plt.show()"
   ],
   "execution_count": null,
   "outputs": []
  },
  {
   "cell_type": "markdown",
   "metadata": {},
   "source": [
    "## Ejecución del análisis\n",
    "\n",
    "A continuación, se obtienen los segmentos únicos, se mapean a los caminos ópticos y se grafican las frecuencias."
   ]
  },
  {
   "cell_type": "code",
   "metadata": {},
   "source": [
    "# Obtener todos los segmentos únicos\n",
    "unique_segments = get_all_segments(LAMBDA_PATHS)\n",
    "print(f\"Total unique segments: {len(unique_segments)}\")\n",
    "print(unique_segments)"
   ],
   "execution_count": null,
   "outputs": []
  },
  {
   "cell_type": "code",
   "metadata": {},
   "source": [
    "# Mapear cada segmento a la lista de lambdas donde aparece\n",
    "segment_to_lambdas = create_segment_to_lambdas(unique_segments, LAMBDA_PATHS)\n",
    "\n",
    "# Mostrar los segmentos y las lambdas en las que aparecen\n",
    "for i, segment in enumerate(unique_segments):\n",
    "    print(f\"Segment {i + 1}: {segment} -> Lambdas: {segment_to_lambdas[segment]}\")"
   ],
   "execution_count": null,
   "outputs": []
  },
  {
   "cell_type": "code",
   "metadata": {},
   "source": [
    "# Graficar frecuencias por ID de sitio\n",
    "plot_segment_frequencies(\n",
    "    segment_to_lambdas,\n",
    "    title='Frecuencia de Segmentos en Lambdas (por Site ID)',\n",
    "    use_names=False\n",
    ")"
   ],
   "execution_count": null,
   "outputs": []
  },
  {
   "cell_type": "code",
   "metadata": {},
   "source": [
    "# Graficar frecuencias por nombre de sitio\n",
    "plot_segment_frequencies(\n",
    "    segment_to_lambdas,\n",
    "    title='Frecuencia de Segmentos en Lambdas (con Nombres)',\n",
    "    use_names=True\n",
    ")"
   ],
   "execution_count": null,
   "outputs": []
  }
 ],
 "metadata": {
  "kernelspec": {
   "display_name": "Python 3",
   "language": "python",
   "name": "python3"
  },
  "language_info": {
   "name": "python",
   "version": ""
  }
 },
 "nbformat":